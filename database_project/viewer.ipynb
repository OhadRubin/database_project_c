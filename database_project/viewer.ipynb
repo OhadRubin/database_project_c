{
 "cells": [
  {
   "cell_type": "code",
   "execution_count": 3,
   "metadata": {},
   "outputs": [
    {
     "data": {
      "text/html": [
       "<div>\n",
       "<style scoped>\n",
       "    .dataframe tbody tr th:only-of-type {\n",
       "        vertical-align: middle;\n",
       "    }\n",
       "\n",
       "    .dataframe tbody tr th {\n",
       "        vertical-align: top;\n",
       "    }\n",
       "\n",
       "    .dataframe thead th {\n",
       "        text-align: right;\n",
       "    }\n",
       "</style>\n",
       "<table border=\"1\" class=\"dataframe\">\n",
       "  <thead>\n",
       "    <tr style=\"text-align: right;\">\n",
       "      <th></th>\n",
       "      <th>id</th>\n",
       "      <th>timestamp</th>\n",
       "      <th>input_file</th>\n",
       "      <th>output_dir</th>\n",
       "      <th>notes</th>\n",
       "      <th>duplicate_count</th>\n",
       "      <th>record_count</th>\n",
       "      <th>implementation</th>\n",
       "      <th>num_nodes</th>\n",
       "      <th>threshold</th>\n",
       "      <th>ngram_size</th>\n",
       "      <th>min_ngram_size</th>\n",
       "      <th>num_perm</th>\n",
       "      <th>execution_time</th>\n",
       "    </tr>\n",
       "  </thead>\n",
       "  <tbody>\n",
       "    <tr>\n",
       "      <th>0</th>\n",
       "      <td>1</td>\n",
       "      <td>2025-03-25 05:47:27.227247</td>\n",
       "      <td>/dev/shm/c4_files/c4-train.*.json.gz</td>\n",
       "      <td>/dev/shm/c4_outputs</td>\n",
       "      <td>Auto-tracked benchmark</td>\n",
       "      <td>3384</td>\n",
       "      <td>352933</td>\n",
       "      <td>pyspark</td>\n",
       "      <td>1</td>\n",
       "      <td>0.7</td>\n",
       "      <td>5</td>\n",
       "      <td>5</td>\n",
       "      <td>256</td>\n",
       "      <td>150.500377</td>\n",
       "    </tr>\n",
       "  </tbody>\n",
       "</table>\n",
       "</div>"
      ],
      "text/plain": [
       "   id                   timestamp                            input_file  \\\n",
       "0   1  2025-03-25 05:47:27.227247  /dev/shm/c4_files/c4-train.*.json.gz   \n",
       "\n",
       "            output_dir                   notes  duplicate_count  record_count  \\\n",
       "0  /dev/shm/c4_outputs  Auto-tracked benchmark             3384        352933   \n",
       "\n",
       "  implementation  num_nodes  threshold  ngram_size  min_ngram_size  num_perm  \\\n",
       "0        pyspark          1        0.7           5               5       256   \n",
       "\n",
       "   execution_time  \n",
       "0      150.500377  "
      ]
     },
     "execution_count": 3,
     "metadata": {},
     "output_type": "execute_result"
    }
   ],
   "source": [
    "import pandas as pd\n",
    "import sqlite3\n",
    "\n",
    "conn = sqlite3.connect(\"/home/ohadr/database_project_c/benchmark_results.db\")\n",
    "df = pd.read_sql_query(\"SELECT * FROM benchmark_runs\", conn)\n",
    "df"
   ]
  },
  {
   "cell_type": "code",
   "execution_count": null,
   "metadata": {},
   "outputs": [],
   "source": []
  }
 ],
 "metadata": {
  "kernelspec": {
   "display_name": "Python 3",
   "language": "python",
   "name": "python3"
  },
  "language_info": {
   "codemirror_mode": {
    "name": "ipython",
    "version": 3
   },
   "file_extension": ".py",
   "mimetype": "text/x-python",
   "name": "python",
   "nbconvert_exporter": "python",
   "pygments_lexer": "ipython3",
   "version": "3.10.14"
  }
 },
 "nbformat": 4,
 "nbformat_minor": 2
}
